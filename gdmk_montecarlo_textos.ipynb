{
 "cells": [
  {
   "cell_type": "code",
   "execution_count": 24,
   "metadata": {},
   "outputs": [],
   "source": [
    "import random"
   ]
  },
  {
   "cell_type": "code",
   "execution_count": 85,
   "metadata": {},
   "outputs": [],
   "source": [
    "palabras = ['tengo', 'vendo', 'compro', 'unas', 'dos', 'tres', 'mesas', 'sillas', 'alfombras']\n",
    "exitosas = []\n",
    "for intento in range(50):\n",
    "    frase_ensayo = [random.choice(palabras), random.choice(palabras), random.choice(palabras)]\n",
    "    #print(frase_ensayo, end='       ')\n",
    "    acierto = [ frase_ensayo[0] in palabras[0:3], frase_ensayo[1] in palabras[3:6], frase_ensayo[2] in palabras[6:9] ]\n",
    "    #print(acierto, '  ', sum(acierto))\n",
    "    if sum(acierto) == 3:\n",
    "        exitosas.append(frase_ensayo)"
   ]
  },
  {
   "cell_type": "code",
   "execution_count": 86,
   "metadata": {},
   "outputs": [
    {
     "name": "stdout",
     "output_type": "stream",
     "text": [
      "vendo unas alfombras\n",
      "vendo tres sillas\n",
      "vendo unas mesas\n",
      "tengo tres sillas\n",
      "tengo tres mesas\n"
     ]
    }
   ],
   "source": [
    "for ex in exitosas:\n",
    "    print(' '.join(ex))"
   ]
  },
  {
   "cell_type": "code",
   "execution_count": null,
   "metadata": {},
   "outputs": [],
   "source": []
  }
 ],
 "metadata": {
  "kernelspec": {
   "display_name": "Python 3",
   "language": "python",
   "name": "python3"
  },
  "language_info": {
   "codemirror_mode": {
    "name": "ipython",
    "version": 3
   },
   "file_extension": ".py",
   "mimetype": "text/x-python",
   "name": "python",
   "nbconvert_exporter": "python",
   "pygments_lexer": "ipython3",
   "version": "3.7.3"
  }
 },
 "nbformat": 4,
 "nbformat_minor": 4
}
