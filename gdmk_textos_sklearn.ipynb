{
  "nbformat": 4,
  "nbformat_minor": 0,
  "metadata": {
    "colab": {
      "name": "gdmk_textos_sklearn.ipynb",
      "provenance": [],
      "authorship_tag": "ABX9TyM8BuNSXjTU4XjLLnyZJLp3",
      "include_colab_link": true
    },
    "kernelspec": {
      "name": "python3",
      "display_name": "Python 3"
    }
  },
  "cells": [
    {
      "cell_type": "markdown",
      "metadata": {
        "id": "view-in-github",
        "colab_type": "text"
      },
      "source": [
        "<a href=\"https://colab.research.google.com/github/jcmachicao/curso_analisistextos/blob/master/gdmk_textos_sklearn.ipynb\" target=\"_parent\"><img src=\"https://colab.research.google.com/assets/colab-badge.svg\" alt=\"Open In Colab\"/></a>"
      ]
    },
    {
      "cell_type": "code",
      "metadata": {
        "id": "LwtgyJBhhD_U",
        "colab_type": "code",
        "colab": {}
      },
      "source": [
        "from sklearn.feature_extraction.text import CountVectorizer"
      ],
      "execution_count": 0,
      "outputs": []
    },
    {
      "cell_type": "code",
      "metadata": {
        "id": "y8Gx7L-1haXW",
        "colab_type": "code",
        "colab": {
          "base_uri": "https://localhost:8080/",
          "height": 34
        },
        "outputId": "6e8ef4b4-9f89-4e0c-896f-5b7684d1ee24"
      },
      "source": [
        "corpus = [\n",
        "  'Este es el primer documento.',\n",
        "  'Esta frase es aparentemente el segundo documento.',\n",
        "  'Y finalmente este es el tecer documento.',\n",
        "  'No sabemos si hay más documentos adicionales.'\n",
        "  ]\n",
        "vectorizer = CountVectorizer()\n",
        "X = vectorizer.fit_transform(corpus)\n",
        "print(vectorizer.get_feature_names())"
      ],
      "execution_count": 3,
      "outputs": [
        {
          "output_type": "stream",
          "text": [
            "['adicionales', 'aparentemente', 'documento', 'documentos', 'el', 'es', 'esta', 'este', 'finalmente', 'frase', 'hay', 'más', 'no', 'primer', 'sabemos', 'segundo', 'si', 'tecer']\n"
          ],
          "name": "stdout"
        }
      ]
    },
    {
      "cell_type": "code",
      "metadata": {
        "id": "2cmc9faBhNBs",
        "colab_type": "code",
        "colab": {
          "base_uri": "https://localhost:8080/",
          "height": 87
        },
        "outputId": "a252472e-8b03-46f7-adc2-5e3781bd75c0"
      },
      "source": [
        "print(X.toarray())"
      ],
      "execution_count": 4,
      "outputs": [
        {
          "output_type": "stream",
          "text": [
            "[[0 0 1 0 1 1 0 1 0 0 0 0 0 1 0 0 0 0]\n",
            " [0 1 1 0 1 1 1 0 0 1 0 0 0 0 0 1 0 0]\n",
            " [0 0 1 0 1 1 0 1 1 0 0 0 0 0 0 0 0 1]\n",
            " [1 0 0 1 0 0 0 0 0 0 1 1 1 0 1 0 1 0]]\n"
          ],
          "name": "stdout"
        }
      ]
    },
    {
      "cell_type": "code",
      "metadata": {
        "id": "WjKgPaHdhQcX",
        "colab_type": "code",
        "colab": {
          "base_uri": "https://localhost:8080/",
          "height": 54
        },
        "outputId": "dc50c585-e4a6-4189-c540-cb24069bc881"
      },
      "source": [
        "vectorizer2 = CountVectorizer(analyzer='word', ngram_range=(2, 2))\n",
        "X2 = vectorizer2.fit_transform(corpus)\n",
        "print(vectorizer2.get_feature_names())"
      ],
      "execution_count": 5,
      "outputs": [
        {
          "output_type": "stream",
          "text": [
            "['aparentemente el', 'documentos adicionales', 'el primer', 'el segundo', 'el tecer', 'es aparentemente', 'es el', 'esta frase', 'este es', 'finalmente este', 'frase es', 'hay más', 'más documentos', 'no sabemos', 'primer documento', 'sabemos si', 'segundo documento', 'si hay', 'tecer documento']\n"
          ],
          "name": "stdout"
        }
      ]
    },
    {
      "cell_type": "code",
      "metadata": {
        "id": "ZrRCXYOkhVKX",
        "colab_type": "code",
        "colab": {
          "base_uri": "https://localhost:8080/",
          "height": 87
        },
        "outputId": "47be0976-752f-4022-f68a-91be2f5d31a6"
      },
      "source": [
        "print(X2.toarray())"
      ],
      "execution_count": 6,
      "outputs": [
        {
          "output_type": "stream",
          "text": [
            "[[0 0 1 0 0 0 1 0 1 0 0 0 0 0 1 0 0 0 0]\n",
            " [1 0 0 1 0 1 0 1 0 0 1 0 0 0 0 0 1 0 0]\n",
            " [0 0 0 0 1 0 1 0 1 1 0 0 0 0 0 0 0 0 1]\n",
            " [0 1 0 0 0 0 0 0 0 0 0 1 1 1 0 1 0 1 0]]\n"
          ],
          "name": "stdout"
        }
      ]
    },
    {
      "cell_type": "code",
      "metadata": {
        "id": "o81Vt9XjnLL8",
        "colab_type": "code",
        "colab": {
          "base_uri": "https://localhost:8080/",
          "height": 52
        },
        "outputId": "41e9d3d8-52b6-4219-e77b-5b3ca73cfb9d"
      },
      "source": [
        "from sklearn.feature_extraction.text import TfidfVectorizer\n",
        "vectorizer = TfidfVectorizer()\n",
        "X = vectorizer.fit_transform(corpus)\n",
        "print(vectorizer.get_feature_names())\n",
        "print(X.shape)"
      ],
      "execution_count": 12,
      "outputs": [
        {
          "output_type": "stream",
          "text": [
            "['adicionales', 'aparentemente', 'documento', 'documentos', 'el', 'es', 'esta', 'este', 'finalmente', 'frase', 'hay', 'más', 'no', 'primer', 'sabemos', 'segundo', 'si', 'tecer']\n",
            "(4, 18)\n"
          ],
          "name": "stdout"
        }
      ]
    }
  ]
}